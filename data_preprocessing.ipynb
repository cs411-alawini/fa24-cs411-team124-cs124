{
 "cells": [
  {
   "cell_type": "code",
   "execution_count": 1,
   "metadata": {},
   "outputs": [],
   "source": [
    "import pandas as pd\n",
    "import numpy as np\n",
    "import re"
   ]
  },
  {
   "cell_type": "code",
   "execution_count": 2,
   "metadata": {},
   "outputs": [],
   "source": [
    "raw_recipe_data = pd.read_csv(\"data/Food Ingredients and Recipe Dataset with Image Name Mapping.csv\")\n",
    "raw_recipe_data = raw_recipe_data.rename(columns={'Unnamed: 0': 'recipe_id'})"
   ]
  },
  {
   "cell_type": "code",
   "execution_count": 3,
   "metadata": {},
   "outputs": [],
   "source": [
    "def convert_to_float(quantity):\n",
    "    try:\n",
    "        # Handle fractions in the format 'a/b' and convert them to float\n",
    "        if '/' in quantity:\n",
    "            return float(sum(Fraction(s) for s in quantity.split()))\n",
    "        # Handle unicode fractions like '½', '¼', etc.\n",
    "        quantity = quantity.replace('½', '0.5').replace('¼', '0.25').replace('¾', '0.75')\n",
    "        # Try converting to float (for whole numbers or decimals)\n",
    "        return float(quantity)\n",
    "    except (ValueError, TypeError):\n",
    "        return None  # For quantities like 'Pinch' or None, return None\n",
    "    \n",
    "def parse_ingredient(ingredient):\n",
    "    # Updated regex to ensure we capture units correctly (e.g., avoid splitting 'large' into 'l' and 'arge')\n",
    "    pattern = r'(?P<quantity>[\\d½¼¾\\.\\-–\\s]+|\\d+/\\d+)?\\s*(?P<unit>(?:\\b(?:lb\\.?|ounce\\.?|oz\\.?|cup\\.?|cups\\.?|tsp\\.?|tbsp\\.?|teaspoons\\.?|teaspoon\\.?|tablespoons\\.?|tablespoon\\.?|kg\\.?|g\\.?|ml\\.?|cl\\.?|l\\.?|quarts\\.?|pound\\.?)\\b)?)\\s*(?P<ingredient>.+)?(?:\\((?P<range>[^\\)]*)\\))?'\n",
    "    # Try to match the full pattern including quantity, unit, ingredient, and ranges in parentheses\n",
    "    match = re.match(pattern, ingredient.strip(), re.IGNORECASE)\n",
    "    \n",
    "    # Extract parsed data\n",
    "    if match:\n",
    "        quantity = match.group('quantity').strip() if match.group('quantity') else None\n",
    "        unit = match.group('unit').strip() if match.group('unit') else None\n",
    "        ingredient_name = match.group('ingredient').strip() if match and match.group('ingredient') else None\n",
    "        # Remove any parenthesis and the text inside them from the ingredient name\n",
    "        ingredient_name = re.sub(r'\\(.*?\\)', '', ingredient_name).strip() if ingredient_name else None\n",
    "        \n",
    "        quantity_range = match.group('range').strip() if match.group('range') else None\n",
    "\n",
    "        # Post-process quantity to handle dashes\n",
    "        if quantity and '-' in quantity:\n",
    "            quantity = quantity.split('-')[0].strip()  # Keep only the part before the dash\n",
    "\n",
    "        # Combine the range with the quantity if necessary (for cases like '10 to 12 small beets')\n",
    "        if quantity_range:\n",
    "            quantity = quantity_range if not quantity else f\"{quantity} ({quantity_range})\"\n",
    "        if not ingredient_name:\n",
    "            # Split the original string and take the last two words\n",
    "            words = ingredient.strip().split()\n",
    "            ingredient_name = ' '.join(words[-2:]) if len(words) >= 2 else words[0] if words else None\n",
    "\n",
    "        quantity = convert_to_float(quantity) if quantity else 1.0\n",
    "        if unit and unit.endswith('s'):\n",
    "            unit = unit.rstrip('s').lower()\n",
    "        return {\n",
    "            'ingredient': ingredient_name if ingredient_name else '',\n",
    "            'quantity': quantity if quantity else 1.0,\n",
    "            'unit': unit if unit else ''\n",
    "        }\n",
    "\n",
    "    # Fallback: Just return the ingredient name if parsing fails\n",
    "    return {\n",
    "        'ingredient': ingredient.strip() if ingredient.strip() else '',\n",
    "        'quantity': 1.0,\n",
    "        'unit': ''\n",
    "    }\n",
    "# Function to split the ingredients list and parse each item\n",
    "def process_ingredients(ingredient_str):\n",
    "    ingredient_list = ingredient_str[4:].split(\"\\', \\'\")\n",
    "    # Split the ingredients by commas    \n",
    "    # Parse each individual ingredient using the parse_ingredient function\n",
    "    parsed_ingredients = [parse_ingredient(ing.strip()) for ing in ingredient_list]\n",
    "    return parsed_ingredients\n",
    "    \n",
    "# Apply the function to split and parse each row of ingredients\n",
    "def set_columns_from_ingredients(df, column_name):\n",
    "    # Assume process_ingredients returns a list of dictionaries (JSON-like structure) for each row\n",
    "    df['parsed_ingredients'] = df[column_name].apply(process_ingredients)\n",
    "    \n",
    "    exploded_df = df[['recipe_id', 'parsed_ingredients']].explode('parsed_ingredients')\n",
    "    \n",
    "    # Normalize the exploded ingredients (JSON-like structure) into a DataFrame\n",
    "    normalized_data = pd.json_normalize(exploded_df['parsed_ingredients'])\n",
    "    \n",
    "    # Add the recipe_id back to the normalized data\n",
    "    normalized_data['recipe_id'] = exploded_df['recipe_id'].values\n",
    "    \n",
    "    return normalized_data\n",
    "\n",
    "# Parse dataframe into a table with PK recipe_ingredient_id with columns ingredient, unit, recipe_id\n",
    "recipe_ingredients_df = set_columns_from_ingredients(raw_recipe_data.copy(), 'Cleaned_Ingredients')\n",
    "recipe_ingredients_df['recipe_ingredient_id'] = recipe_ingredients_df.index\n",
    "recipe_ingredients_df.to_csv('data/recipe_ingredients.csv', index=False)\n",
    "\n",
    "# Select only useful information from raw recipe data\n",
    "raw_recipe_data.drop(columns=['Ingredients'])\n",
    "recipe_df = raw_recipe_data.rename(columns={'Cleaned_Ingredients': 'IngredientsText'})\n",
    "recipe_df.to_csv('data/recipe.csv', index=False)\n"
   ]
  },
  {
   "cell_type": "code",
   "execution_count": 4,
   "metadata": {},
   "outputs": [
    {
     "name": "stderr",
     "output_type": "stream",
     "text": [
      "/Users/brianyoon/anaconda3/envs/.venv2/lib/python3.12/site-packages/sentence_transformers/cross_encoder/CrossEncoder.py:13: TqdmWarning: IProgress not found. Please update jupyter and ipywidgets. See https://ipywidgets.readthedocs.io/en/stable/user_install.html\n",
      "  from tqdm.autonotebook import tqdm, trange\n",
      "/Users/brianyoon/anaconda3/envs/.venv2/lib/python3.12/site-packages/transformers/tokenization_utils_base.py:1601: FutureWarning: `clean_up_tokenization_spaces` was not set. It will be set to `True` by default. This behavior will be depracted in transformers v4.45, and will be then set to `False` by default. For more details check this issue: https://github.com/huggingface/transformers/issues/31884\n",
      "  warnings.warn(\n"
     ]
    }
   ],
   "source": [
    "from sentence_transformers import SentenceTransformer, util\n",
    "\n",
    "nutrition_data = pd.read_csv(\"data/food.csv\")\n",
    "# Load the pre-trained model\n",
    "model = SentenceTransformer('paraphrase-MiniLM-L6-v2')  # Small and fast transformer\n",
    "\n",
    "# Your categories (from Table 1)\n",
    "categories = [v.replace(\",\", \" \").lower() for v in nutrition_data['Description'].values.tolist()]\n",
    "\n",
    "# Your ingredients (from CSV)\n",
    "ingredients = recipe_ingredients_df['ingredient'].values.tolist()\n"
   ]
  },
  {
   "cell_type": "code",
   "execution_count": 5,
   "metadata": {},
   "outputs": [
    {
     "name": "stderr",
     "output_type": "stream",
     "text": [
      "100%|██████████| 148327/148327 [23:16<00:00, 106.21it/s]\n"
     ]
    }
   ],
   "source": [
    "# Takes 20 mins\n",
    "from tqdm import tqdm\n",
    "# Encode both the ingredients and categories as embeddings\n",
    "category_embeddings = model.encode(categories, convert_to_tensor=True)\n",
    "\n",
    "# Enable tqdm progress bar for pandas apply\n",
    "tqdm.pandas()\n",
    "\n",
    "# Example dataframe with an 'ingredient' column\n",
    "df = pd.DataFrame({\n",
    "    'ingredient': ingredients\n",
    "})\n",
    "\n",
    "# Function to classify a single ingredient\n",
    "def classify_row(ingredient, model, categories, category_embeddings):\n",
    "    ingredient_embedding = model.encode(ingredient, convert_to_tensor=True)\n",
    "    cos_sim = util.pytorch_cos_sim(ingredient_embedding, category_embeddings)\n",
    "    best_match_idx = cos_sim.argmax().item()\n",
    "    best_match_score = cos_sim.max().item()\n",
    "    return categories[best_match_idx] if best_match_score > 0.5 else \"No Match\"\n",
    "\n",
    "# Add a new column to the dataframe with the classified ingredient\n",
    "recipe_ingredients_df['formatted_ingredient'] = recipe_ingredients_df['ingredient'].progress_apply(\n",
    "    lambda x: classify_row(x, model, categories, category_embeddings)\n",
    ")"
   ]
  },
  {
   "cell_type": "code",
   "execution_count": 6,
   "metadata": {},
   "outputs": [],
   "source": [
    "recipe_ingredients_df.to_csv(\"data/recipe_ingredients_with_new_names.csv\", index=False)"
   ]
  },
  {
   "cell_type": "code",
   "execution_count": 15,
   "metadata": {},
   "outputs": [],
   "source": [
    "price_data = nutrition_data[['Category','Description']]"
   ]
  },
  {
   "cell_type": "code",
   "execution_count": 16,
   "metadata": {},
   "outputs": [
    {
     "name": "stderr",
     "output_type": "stream",
     "text": [
      "/var/folders/j9/72yn3_x516g62wn4pc0zp1cw0000gn/T/ipykernel_58384/148641664.py:40: SettingWithCopyWarning: \n",
      "A value is trying to be set on a copy of a slice from a DataFrame.\n",
      "Try using .loc[row_indexer,col_indexer] = value instead\n",
      "\n",
      "See the caveats in the documentation: https://pandas.pydata.org/pandas-docs/stable/user_guide/indexing.html#returning-a-view-versus-a-copy\n",
      "  price_data['price_per_100g'] = price_data['Description'].apply(assign_price)\n"
     ]
    }
   ],
   "source": [
    "import random\n",
    "import pandas as pd\n",
    "import json\n",
    "# Sample common prices for 100 items\n",
    "common_prices = None\n",
    "# Open the JSON file and load it into a dictionary\n",
    "with open('data/prices.json', 'r') as json_file:\n",
    "    common_prices = json.load(json_file)\n",
    "\n",
    "# Define price ranges for different categories\n",
    "price_ranges = {\n",
    "    \"Spices and herbs\": (2.00, 10.00),\n",
    "    \"Dairy products\": (0.50, 5.00),\n",
    "    \"Meats and fish\": (2.00, 8.00),\n",
    "    \"Fruits and vegetables\": (0.20, 2.50),\n",
    "    \"Processed and packaged foods\": (1.00, 5.00),\n",
    "    \"Grains, seeds, and nuts\": (0.30, 4.00),\n",
    "    \"Miscellaneous\": (0.50, 5.00)  # For items that don't fit neatly into a category\n",
    "}\n",
    "\n",
    "def assign_price(category):\n",
    "    if category in common_prices:\n",
    "        return common_prices[category]\n",
    "    if \"SPICE\" in category or \"HERB\" in category:\n",
    "        return round(random.uniform(*price_ranges[\"Spices and herbs\"]), 2)\n",
    "    elif \"DAIRY\" in category or any(dairy in category for dairy in [\"BUTTER\", \"CHEESE\", \"MILK\", \"CREAM\", \"YOGURT\"]):\n",
    "        return round(random.uniform(*price_ranges[\"Dairy products\"]), 2)\n",
    "    elif \"MEAT\" in category or \"FISH\" in category or category in [\"CHICKEN\", \"PORK\", \"BEEF\", \"TURKEY\"]:\n",
    "        return round(random.uniform(*price_ranges[\"Meats and fish\"]), 2)\n",
    "    elif any(veg in category for veg in [\"APPLE\", \"CARROT\", \"POTATO\", \"TOMATO\", \"ONION\"]):\n",
    "        return round(random.uniform(*price_ranges[\"Fruits and vegetables\"]), 2)\n",
    "    elif any(processed in category for processed in [\"BREAD\", \"PASTA\"]):\n",
    "        return round(random.uniform(*price_ranges[\"Processed and packaged foods\"]), 2)\n",
    "    elif any(grain in category for grain in [\"WHEAT\", \"RICE\", \"NUT\", \"SEED\"]):\n",
    "        return round(random.uniform(*price_ranges[\"Grains, seeds, and nuts\"]), 2)\n",
    "    else:\n",
    "        return round(random.uniform(*price_ranges[\"Miscellaneous\"]), 2)\n",
    "\n",
    "# Apply the price assignment function to each category\n",
    "price_data['price_per_100g'] = price_data['Description'].apply(assign_price)\n"
   ]
  },
  {
   "cell_type": "code",
   "execution_count": 17,
   "metadata": {},
   "outputs": [],
   "source": [
    "price_data.to_csv('data/ingredient_price.csv', index=False)"
   ]
  }
 ],
 "metadata": {
  "kernelspec": {
   "display_name": "cs411",
   "language": "python",
   "name": "python3"
  },
  "language_info": {
   "codemirror_mode": {
    "name": "ipython",
    "version": 3
   },
   "file_extension": ".py",
   "mimetype": "text/x-python",
   "name": "python",
   "nbconvert_exporter": "python",
   "pygments_lexer": "ipython3",
   "version": "3.12.7"
  },
  "orig_nbformat": 4
 },
 "nbformat": 4,
 "nbformat_minor": 2
}
